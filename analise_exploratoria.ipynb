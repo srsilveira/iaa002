{
 "cells": [
  {
   "cell_type": "markdown",
   "metadata": {},
   "source": []
  },
  {
   "cell_type": "markdown",
   "metadata": {},
   "source": [
    "# 1 Análise Exploratória dos dados\n",
    "\n",
    "A partir da base de dados precos_carros_brasil.csv, execute as seguintes tarefas:\n",
    "<ol type=\"a\">\n",
    "<li>Carregue a base de dados media_precos_carros_brasil.csv</li>\n",
    "<li>Verifique se há valores faltantes nos dados. Caso haja, escolha uma tratativa para resolver o problema de valores faltantes</li>\n",
    "<li>Verifique se há dados duplicados nos dados</li>\n",
    "<li>Crie duas categorias, para separar colunas numéricas e categóricas.</li>\n",
    "<li>Imprima o resumo de informações das variáveis numéricas e categóricas (estatística descritiva dos dados) Imprima a contagem de valores por modelo (model) e marca do carro (brand)</li>\n",
    "<li>Dê um breve explicação (máximo de quatro linhas) sobre os principais resultados encontrados na Análise Exploratória dos dados</li>\n",
    "</ol>"
   ]
  },
  {
   "cell_type": "markdown",
   "metadata": {},
   "source": [
    "Importando as libs necessárias"
   ]
  },
  {
   "cell_type": "code",
   "execution_count": 67,
   "metadata": {},
   "outputs": [],
   "source": [
    "import pandas as pd\n",
    "import warnings\n",
    "warnings.filterwarnings('ignore')"
   ]
  },
  {
   "cell_type": "markdown",
   "metadata": {},
   "source": [
    "## Carregando a base de dados precos_carros_brasil.csv"
   ]
  },
  {
   "cell_type": "code",
   "execution_count": 68,
   "metadata": {},
   "outputs": [],
   "source": [
    "# lendo o csv com os dados\n",
    "dados = pd.read_csv('precos_carros_brasil.csv')"
   ]
  },
  {
   "cell_type": "code",
   "execution_count": 69,
   "metadata": {},
   "outputs": [
    {
     "data": {
      "text/html": [
       "<div>\n",
       "<style scoped>\n",
       "    .dataframe tbody tr th:only-of-type {\n",
       "        vertical-align: middle;\n",
       "    }\n",
       "\n",
       "    .dataframe tbody tr th {\n",
       "        vertical-align: top;\n",
       "    }\n",
       "\n",
       "    .dataframe thead th {\n",
       "        text-align: right;\n",
       "    }\n",
       "</style>\n",
       "<table border=\"1\" class=\"dataframe\">\n",
       "  <thead>\n",
       "    <tr style=\"text-align: right;\">\n",
       "      <th></th>\n",
       "      <th>year_of_reference</th>\n",
       "      <th>month_of_reference</th>\n",
       "      <th>fipe_code</th>\n",
       "      <th>authentication</th>\n",
       "      <th>brand</th>\n",
       "      <th>model</th>\n",
       "      <th>fuel</th>\n",
       "      <th>gear</th>\n",
       "      <th>engine_size</th>\n",
       "      <th>year_model</th>\n",
       "      <th>avg_price_brl</th>\n",
       "    </tr>\n",
       "  </thead>\n",
       "  <tbody>\n",
       "    <tr>\n",
       "      <th>0</th>\n",
       "      <td>2021.0</td>\n",
       "      <td>January</td>\n",
       "      <td>004001-0</td>\n",
       "      <td>cfzlctzfwrcp</td>\n",
       "      <td>GM - Chevrolet</td>\n",
       "      <td>Corsa Wind 1.0 MPFI / EFI 2p</td>\n",
       "      <td>Gasoline</td>\n",
       "      <td>manual</td>\n",
       "      <td>1</td>\n",
       "      <td>2002.0</td>\n",
       "      <td>9162.0</td>\n",
       "    </tr>\n",
       "    <tr>\n",
       "      <th>1</th>\n",
       "      <td>2021.0</td>\n",
       "      <td>January</td>\n",
       "      <td>004001-0</td>\n",
       "      <td>cdqwxwpw3y2p</td>\n",
       "      <td>GM - Chevrolet</td>\n",
       "      <td>Corsa Wind 1.0 MPFI / EFI 2p</td>\n",
       "      <td>Gasoline</td>\n",
       "      <td>manual</td>\n",
       "      <td>1</td>\n",
       "      <td>2001.0</td>\n",
       "      <td>8832.0</td>\n",
       "    </tr>\n",
       "    <tr>\n",
       "      <th>2</th>\n",
       "      <td>2021.0</td>\n",
       "      <td>January</td>\n",
       "      <td>004001-0</td>\n",
       "      <td>cb1t3xwwj1xp</td>\n",
       "      <td>GM - Chevrolet</td>\n",
       "      <td>Corsa Wind 1.0 MPFI / EFI 2p</td>\n",
       "      <td>Gasoline</td>\n",
       "      <td>manual</td>\n",
       "      <td>1</td>\n",
       "      <td>2000.0</td>\n",
       "      <td>8388.0</td>\n",
       "    </tr>\n",
       "    <tr>\n",
       "      <th>3</th>\n",
       "      <td>2021.0</td>\n",
       "      <td>January</td>\n",
       "      <td>004001-0</td>\n",
       "      <td>cb9gct6j65r0</td>\n",
       "      <td>GM - Chevrolet</td>\n",
       "      <td>Corsa Wind 1.0 MPFI / EFI 2p</td>\n",
       "      <td>Alcohol</td>\n",
       "      <td>manual</td>\n",
       "      <td>1</td>\n",
       "      <td>2000.0</td>\n",
       "      <td>8453.0</td>\n",
       "    </tr>\n",
       "    <tr>\n",
       "      <th>4</th>\n",
       "      <td>2021.0</td>\n",
       "      <td>January</td>\n",
       "      <td>004003-7</td>\n",
       "      <td>g15wg0gbz1fx</td>\n",
       "      <td>GM - Chevrolet</td>\n",
       "      <td>Corsa Pick-Up GL/ Champ 1.6 MPFI / EFI</td>\n",
       "      <td>Gasoline</td>\n",
       "      <td>manual</td>\n",
       "      <td>1,6</td>\n",
       "      <td>2001.0</td>\n",
       "      <td>12525.0</td>\n",
       "    </tr>\n",
       "  </tbody>\n",
       "</table>\n",
       "</div>"
      ],
      "text/plain": [
       "   year_of_reference month_of_reference fipe_code authentication  \\\n",
       "0             2021.0            January  004001-0   cfzlctzfwrcp   \n",
       "1             2021.0            January  004001-0   cdqwxwpw3y2p   \n",
       "2             2021.0            January  004001-0   cb1t3xwwj1xp   \n",
       "3             2021.0            January  004001-0   cb9gct6j65r0   \n",
       "4             2021.0            January  004003-7   g15wg0gbz1fx   \n",
       "\n",
       "            brand                                   model      fuel    gear  \\\n",
       "0  GM - Chevrolet            Corsa Wind 1.0 MPFI / EFI 2p  Gasoline  manual   \n",
       "1  GM - Chevrolet            Corsa Wind 1.0 MPFI / EFI 2p  Gasoline  manual   \n",
       "2  GM - Chevrolet            Corsa Wind 1.0 MPFI / EFI 2p  Gasoline  manual   \n",
       "3  GM - Chevrolet            Corsa Wind 1.0 MPFI / EFI 2p   Alcohol  manual   \n",
       "4  GM - Chevrolet  Corsa Pick-Up GL/ Champ 1.6 MPFI / EFI  Gasoline  manual   \n",
       "\n",
       "  engine_size  year_model  avg_price_brl  \n",
       "0           1      2002.0         9162.0  \n",
       "1           1      2001.0         8832.0  \n",
       "2           1      2000.0         8388.0  \n",
       "3           1      2000.0         8453.0  \n",
       "4         1,6      2001.0        12525.0  "
      ]
     },
     "execution_count": 69,
     "metadata": {},
     "output_type": "execute_result"
    }
   ],
   "source": [
    "# verificando os dados\n",
    "dados.head()"
   ]
  },
  {
   "cell_type": "code",
   "execution_count": 70,
   "metadata": {},
   "outputs": [
    {
     "data": {
      "text/plain": [
       "Index(['year_of_reference', 'month_of_reference', 'fipe_code',\n",
       "       'authentication', 'brand', 'model', 'fuel', 'gear', 'engine_size',\n",
       "       'year_model', 'avg_price_brl'],\n",
       "      dtype='object')"
      ]
     },
     "execution_count": 70,
     "metadata": {},
     "output_type": "execute_result"
    }
   ],
   "source": [
    "# verificando as colunas\n",
    "dados.columns"
   ]
  },
  {
   "cell_type": "code",
   "execution_count": 71,
   "metadata": {},
   "outputs": [
    {
     "data": {
      "text/plain": [
       "(267542, 11)"
      ]
     },
     "execution_count": 71,
     "metadata": {},
     "output_type": "execute_result"
    }
   ],
   "source": [
    "# verificando o tamanho \n",
    "dados.shape"
   ]
  },
  {
   "cell_type": "code",
   "execution_count": 72,
   "metadata": {},
   "outputs": [
    {
     "data": {
      "text/plain": [
       "year_of_reference     float64\n",
       "month_of_reference     object\n",
       "fipe_code              object\n",
       "authentication         object\n",
       "brand                  object\n",
       "model                  object\n",
       "fuel                   object\n",
       "gear                   object\n",
       "engine_size            object\n",
       "year_model            float64\n",
       "avg_price_brl         float64\n",
       "dtype: object"
      ]
     },
     "execution_count": 72,
     "metadata": {},
     "output_type": "execute_result"
    }
   ],
   "source": [
    "dados.dtypes"
   ]
  },
  {
   "cell_type": "markdown",
   "metadata": {},
   "source": [
    "---\n",
    "## Verificando se há valores faltantes\n",
    "\n",
    "Verifique se há valores faltantes nos dados. Caso haja, escolha uma tratativa para resolver o problema de valores faltantes"
   ]
  },
  {
   "cell_type": "code",
   "execution_count": 73,
   "metadata": {},
   "outputs": [
    {
     "data": {
      "text/plain": [
       "year_of_reference     True\n",
       "month_of_reference    True\n",
       "fipe_code             True\n",
       "authentication        True\n",
       "brand                 True\n",
       "model                 True\n",
       "fuel                  True\n",
       "gear                  True\n",
       "engine_size           True\n",
       "year_model            True\n",
       "avg_price_brl         True\n",
       "dtype: bool"
      ]
     },
     "execution_count": 73,
     "metadata": {},
     "output_type": "execute_result"
    }
   ],
   "source": [
    "# vamos ver se temos dados faltando\n",
    "dados.isna().any()"
   ]
  },
  {
   "cell_type": "code",
   "execution_count": 74,
   "metadata": {},
   "outputs": [
    {
     "data": {
      "text/plain": [
       "year_of_reference     65245\n",
       "month_of_reference    65245\n",
       "fipe_code             65245\n",
       "authentication        65245\n",
       "brand                 65245\n",
       "model                 65245\n",
       "fuel                  65245\n",
       "gear                  65245\n",
       "engine_size           65245\n",
       "year_model            65245\n",
       "avg_price_brl         65245\n",
       "dtype: int64"
      ]
     },
     "execution_count": 74,
     "metadata": {},
     "output_type": "execute_result"
    }
   ],
   "source": [
    "# faltam dados em todas as colunas, mas quanto temos faltando?\n",
    "dados.isna().sum()"
   ]
  },
  {
   "cell_type": "code",
   "execution_count": 75,
   "metadata": {},
   "outputs": [],
   "source": [
    "# vamos adicionar um valor padrão para os faltantes\n",
    "dados['year_of_reference'].fillna(0.0, inplace=True)\n",
    "dados['month_of_reference'].fillna(\"ND\", inplace=True)\n",
    "dados['fipe_code'].fillna(\"ND\", inplace=True)\n",
    "dados['authentication'].fillna(\"ND\", inplace=True)\n",
    "dados['brand'].fillna(\"ND\", inplace=True)\n",
    "dados['model'].fillna(\"ND\", inplace=True)\n",
    "dados['fuel'].fillna(\"ND\", inplace=True)\n",
    "dados['gear'].fillna(\"ND\", inplace=True)\n",
    "dados['engine_size'].fillna(\"ND\", inplace=True)\n",
    "dados['year_model'].fillna(0.0, inplace=True)\n",
    "dados['avg_price_brl'].fillna(0.0, inplace=True)"
   ]
  },
  {
   "cell_type": "markdown",
   "metadata": {},
   "source": [
    "## Verificando dados duplicados\n",
    "Verifique se há dados duplicados nos dados"
   ]
  },
  {
   "cell_type": "code",
   "execution_count": 76,
   "metadata": {},
   "outputs": [
    {
     "data": {
      "text/plain": [
       "65246"
      ]
     },
     "execution_count": 76,
     "metadata": {},
     "output_type": "execute_result"
    }
   ],
   "source": [
    "# verificando se tem dados duplicados\n",
    "dados.duplicated().sum()"
   ]
  },
  {
   "cell_type": "code",
   "execution_count": 77,
   "metadata": {},
   "outputs": [
    {
     "data": {
      "text/html": [
       "<div>\n",
       "<style scoped>\n",
       "    .dataframe tbody tr th:only-of-type {\n",
       "        vertical-align: middle;\n",
       "    }\n",
       "\n",
       "    .dataframe tbody tr th {\n",
       "        vertical-align: top;\n",
       "    }\n",
       "\n",
       "    .dataframe thead th {\n",
       "        text-align: right;\n",
       "    }\n",
       "</style>\n",
       "<table border=\"1\" class=\"dataframe\">\n",
       "  <thead>\n",
       "    <tr style=\"text-align: right;\">\n",
       "      <th></th>\n",
       "      <th>year_of_reference</th>\n",
       "      <th>month_of_reference</th>\n",
       "      <th>fipe_code</th>\n",
       "      <th>authentication</th>\n",
       "      <th>brand</th>\n",
       "      <th>model</th>\n",
       "      <th>fuel</th>\n",
       "      <th>gear</th>\n",
       "      <th>engine_size</th>\n",
       "      <th>year_model</th>\n",
       "      <th>avg_price_brl</th>\n",
       "    </tr>\n",
       "  </thead>\n",
       "  <tbody>\n",
       "    <tr>\n",
       "      <th>45793</th>\n",
       "      <td>2021.0</td>\n",
       "      <td>June</td>\n",
       "      <td>025232-8</td>\n",
       "      <td>5rtdwkpkpq5h</td>\n",
       "      <td>Renault</td>\n",
       "      <td>DUSTER OROCH Dyna. 2.0 Flex 16V Mec.</td>\n",
       "      <td>Gasoline</td>\n",
       "      <td>manual</td>\n",
       "      <td>2</td>\n",
       "      <td>2018.0</td>\n",
       "      <td>69893.0</td>\n",
       "    </tr>\n",
       "    <tr>\n",
       "      <th>189896</th>\n",
       "      <td>2022.0</td>\n",
       "      <td>December</td>\n",
       "      <td>003296-4</td>\n",
       "      <td>3r6c277cnqcb</td>\n",
       "      <td>Ford</td>\n",
       "      <td>Ranger Limited 3.0 PSE 4x4 CD TB Diesel</td>\n",
       "      <td>Diesel</td>\n",
       "      <td>manual</td>\n",
       "      <td>3</td>\n",
       "      <td>2007.0</td>\n",
       "      <td>64638.0</td>\n",
       "    </tr>\n",
       "    <tr>\n",
       "      <th>202298</th>\n",
       "      <td>0.0</td>\n",
       "      <td>ND</td>\n",
       "      <td>ND</td>\n",
       "      <td>ND</td>\n",
       "      <td>ND</td>\n",
       "      <td>ND</td>\n",
       "      <td>ND</td>\n",
       "      <td>ND</td>\n",
       "      <td>ND</td>\n",
       "      <td>0.0</td>\n",
       "      <td>0.0</td>\n",
       "    </tr>\n",
       "    <tr>\n",
       "      <th>202299</th>\n",
       "      <td>0.0</td>\n",
       "      <td>ND</td>\n",
       "      <td>ND</td>\n",
       "      <td>ND</td>\n",
       "      <td>ND</td>\n",
       "      <td>ND</td>\n",
       "      <td>ND</td>\n",
       "      <td>ND</td>\n",
       "      <td>ND</td>\n",
       "      <td>0.0</td>\n",
       "      <td>0.0</td>\n",
       "    </tr>\n",
       "    <tr>\n",
       "      <th>202300</th>\n",
       "      <td>0.0</td>\n",
       "      <td>ND</td>\n",
       "      <td>ND</td>\n",
       "      <td>ND</td>\n",
       "      <td>ND</td>\n",
       "      <td>ND</td>\n",
       "      <td>ND</td>\n",
       "      <td>ND</td>\n",
       "      <td>ND</td>\n",
       "      <td>0.0</td>\n",
       "      <td>0.0</td>\n",
       "    </tr>\n",
       "    <tr>\n",
       "      <th>...</th>\n",
       "      <td>...</td>\n",
       "      <td>...</td>\n",
       "      <td>...</td>\n",
       "      <td>...</td>\n",
       "      <td>...</td>\n",
       "      <td>...</td>\n",
       "      <td>...</td>\n",
       "      <td>...</td>\n",
       "      <td>...</td>\n",
       "      <td>...</td>\n",
       "      <td>...</td>\n",
       "    </tr>\n",
       "    <tr>\n",
       "      <th>267537</th>\n",
       "      <td>0.0</td>\n",
       "      <td>ND</td>\n",
       "      <td>ND</td>\n",
       "      <td>ND</td>\n",
       "      <td>ND</td>\n",
       "      <td>ND</td>\n",
       "      <td>ND</td>\n",
       "      <td>ND</td>\n",
       "      <td>ND</td>\n",
       "      <td>0.0</td>\n",
       "      <td>0.0</td>\n",
       "    </tr>\n",
       "    <tr>\n",
       "      <th>267538</th>\n",
       "      <td>0.0</td>\n",
       "      <td>ND</td>\n",
       "      <td>ND</td>\n",
       "      <td>ND</td>\n",
       "      <td>ND</td>\n",
       "      <td>ND</td>\n",
       "      <td>ND</td>\n",
       "      <td>ND</td>\n",
       "      <td>ND</td>\n",
       "      <td>0.0</td>\n",
       "      <td>0.0</td>\n",
       "    </tr>\n",
       "    <tr>\n",
       "      <th>267539</th>\n",
       "      <td>0.0</td>\n",
       "      <td>ND</td>\n",
       "      <td>ND</td>\n",
       "      <td>ND</td>\n",
       "      <td>ND</td>\n",
       "      <td>ND</td>\n",
       "      <td>ND</td>\n",
       "      <td>ND</td>\n",
       "      <td>ND</td>\n",
       "      <td>0.0</td>\n",
       "      <td>0.0</td>\n",
       "    </tr>\n",
       "    <tr>\n",
       "      <th>267540</th>\n",
       "      <td>0.0</td>\n",
       "      <td>ND</td>\n",
       "      <td>ND</td>\n",
       "      <td>ND</td>\n",
       "      <td>ND</td>\n",
       "      <td>ND</td>\n",
       "      <td>ND</td>\n",
       "      <td>ND</td>\n",
       "      <td>ND</td>\n",
       "      <td>0.0</td>\n",
       "      <td>0.0</td>\n",
       "    </tr>\n",
       "    <tr>\n",
       "      <th>267541</th>\n",
       "      <td>0.0</td>\n",
       "      <td>ND</td>\n",
       "      <td>ND</td>\n",
       "      <td>ND</td>\n",
       "      <td>ND</td>\n",
       "      <td>ND</td>\n",
       "      <td>ND</td>\n",
       "      <td>ND</td>\n",
       "      <td>ND</td>\n",
       "      <td>0.0</td>\n",
       "      <td>0.0</td>\n",
       "    </tr>\n",
       "  </tbody>\n",
       "</table>\n",
       "<p>65246 rows × 11 columns</p>\n",
       "</div>"
      ],
      "text/plain": [
       "        year_of_reference month_of_reference fipe_code authentication  \\\n",
       "45793              2021.0               June  025232-8   5rtdwkpkpq5h   \n",
       "189896             2022.0           December  003296-4   3r6c277cnqcb   \n",
       "202298                0.0                 ND        ND             ND   \n",
       "202299                0.0                 ND        ND             ND   \n",
       "202300                0.0                 ND        ND             ND   \n",
       "...                   ...                ...       ...            ...   \n",
       "267537                0.0                 ND        ND             ND   \n",
       "267538                0.0                 ND        ND             ND   \n",
       "267539                0.0                 ND        ND             ND   \n",
       "267540                0.0                 ND        ND             ND   \n",
       "267541                0.0                 ND        ND             ND   \n",
       "\n",
       "          brand                                    model      fuel    gear  \\\n",
       "45793   Renault     DUSTER OROCH Dyna. 2.0 Flex 16V Mec.  Gasoline  manual   \n",
       "189896     Ford  Ranger Limited 3.0 PSE 4x4 CD TB Diesel    Diesel  manual   \n",
       "202298       ND                                       ND        ND      ND   \n",
       "202299       ND                                       ND        ND      ND   \n",
       "202300       ND                                       ND        ND      ND   \n",
       "...         ...                                      ...       ...     ...   \n",
       "267537       ND                                       ND        ND      ND   \n",
       "267538       ND                                       ND        ND      ND   \n",
       "267539       ND                                       ND        ND      ND   \n",
       "267540       ND                                       ND        ND      ND   \n",
       "267541       ND                                       ND        ND      ND   \n",
       "\n",
       "       engine_size  year_model  avg_price_brl  \n",
       "45793            2      2018.0        69893.0  \n",
       "189896           3      2007.0        64638.0  \n",
       "202298          ND         0.0            0.0  \n",
       "202299          ND         0.0            0.0  \n",
       "202300          ND         0.0            0.0  \n",
       "...            ...         ...            ...  \n",
       "267537          ND         0.0            0.0  \n",
       "267538          ND         0.0            0.0  \n",
       "267539          ND         0.0            0.0  \n",
       "267540          ND         0.0            0.0  \n",
       "267541          ND         0.0            0.0  \n",
       "\n",
       "[65246 rows x 11 columns]"
      ]
     },
     "execution_count": 77,
     "metadata": {},
     "output_type": "execute_result"
    }
   ],
   "source": [
    "# listando os duplicados\n",
    "dados[dados.duplicated()]"
   ]
  },
  {
   "cell_type": "code",
   "execution_count": null,
   "metadata": {},
   "outputs": [
    {
     "data": {
      "text/plain": [
       "0"
      ]
     },
     "execution_count": 79,
     "metadata": {},
     "output_type": "execute_result"
    }
   ],
   "source": [
    "# vamos remover as duplicatas\n",
    "dados.drop_duplicates(inplace=True)"
   ]
  },
  {
   "cell_type": "markdown",
   "metadata": {},
   "source": [
    "---\n",
    "## Separando Numéricas de Categóricas\n",
    "Crie duas categorias, para separar colunas numéricas e categóricas."
   ]
  },
  {
   "cell_type": "code",
   "execution_count": 80,
   "metadata": {},
   "outputs": [],
   "source": [
    "# separando as categorias numéricas de categóricas\n",
    "numericas_cols = [col for col in dados.columns if dados[col].dtype != 'object']\n",
    "categoricas_cols = [col for col in dados.columns if dados[col].dtype == 'object']"
   ]
  },
  {
   "cell_type": "markdown",
   "metadata": {},
   "source": [
    "---\n",
    "## Resumo\n",
    "Imprima o resumo de informações das variáveis numéricas e categóricas (estatística descritiva dos dados)  \n",
    "Imprima a contagem de valores por modelo (model) e marca do carro (brand)"
   ]
  },
  {
   "cell_type": "code",
   "execution_count": null,
   "metadata": {},
   "outputs": [
    {
     "data": {
      "text/html": [
       "<div>\n",
       "<style scoped>\n",
       "    .dataframe tbody tr th:only-of-type {\n",
       "        vertical-align: middle;\n",
       "    }\n",
       "\n",
       "    .dataframe tbody tr th {\n",
       "        vertical-align: top;\n",
       "    }\n",
       "\n",
       "    .dataframe thead th {\n",
       "        text-align: right;\n",
       "    }\n",
       "</style>\n",
       "<table border=\"1\" class=\"dataframe\">\n",
       "  <thead>\n",
       "    <tr style=\"text-align: right;\">\n",
       "      <th></th>\n",
       "      <th>year_of_reference</th>\n",
       "      <th>year_model</th>\n",
       "      <th>avg_price_brl</th>\n",
       "    </tr>\n",
       "  </thead>\n",
       "  <tbody>\n",
       "    <tr>\n",
       "      <th>count</th>\n",
       "      <td>202296.000000</td>\n",
       "      <td>202296.000000</td>\n",
       "      <td>202296.000000</td>\n",
       "    </tr>\n",
       "    <tr>\n",
       "      <th>mean</th>\n",
       "      <td>2021.554702</td>\n",
       "      <td>2011.261572</td>\n",
       "      <td>52756.504923</td>\n",
       "    </tr>\n",
       "    <tr>\n",
       "      <th>std</th>\n",
       "      <td>4.530869</td>\n",
       "      <td>7.787987</td>\n",
       "      <td>51628.917751</td>\n",
       "    </tr>\n",
       "    <tr>\n",
       "      <th>min</th>\n",
       "      <td>0.000000</td>\n",
       "      <td>0.000000</td>\n",
       "      <td>0.000000</td>\n",
       "    </tr>\n",
       "    <tr>\n",
       "      <th>25%</th>\n",
       "      <td>2021.000000</td>\n",
       "      <td>2006.000000</td>\n",
       "      <td>22855.000000</td>\n",
       "    </tr>\n",
       "    <tr>\n",
       "      <th>50%</th>\n",
       "      <td>2022.000000</td>\n",
       "      <td>2012.000000</td>\n",
       "      <td>38027.000000</td>\n",
       "    </tr>\n",
       "    <tr>\n",
       "      <th>75%</th>\n",
       "      <td>2022.000000</td>\n",
       "      <td>2016.000000</td>\n",
       "      <td>64064.000000</td>\n",
       "    </tr>\n",
       "    <tr>\n",
       "      <th>max</th>\n",
       "      <td>2023.000000</td>\n",
       "      <td>2023.000000</td>\n",
       "      <td>979358.000000</td>\n",
       "    </tr>\n",
       "  </tbody>\n",
       "</table>\n",
       "</div>"
      ],
      "text/plain": [
       "       year_of_reference     year_model  avg_price_brl\n",
       "count      202296.000000  202296.000000  202296.000000\n",
       "mean         2021.554702    2011.261572   52756.504923\n",
       "std             4.530869       7.787987   51628.917751\n",
       "min             0.000000       0.000000       0.000000\n",
       "25%          2021.000000    2006.000000   22855.000000\n",
       "50%          2022.000000    2012.000000   38027.000000\n",
       "75%          2022.000000    2016.000000   64064.000000\n",
       "max          2023.000000    2023.000000  979358.000000"
      ]
     },
     "execution_count": 85,
     "metadata": {},
     "output_type": "execute_result"
    }
   ],
   "source": [
    "# numéricas: estatística descritiva dos dados\n",
    "dados[numericas_cols].describe()"
   ]
  },
  {
   "cell_type": "code",
   "execution_count": null,
   "metadata": {},
   "outputs": [
    {
     "data": {
      "text/html": [
       "<div>\n",
       "<style scoped>\n",
       "    .dataframe tbody tr th:only-of-type {\n",
       "        vertical-align: middle;\n",
       "    }\n",
       "\n",
       "    .dataframe tbody tr th {\n",
       "        vertical-align: top;\n",
       "    }\n",
       "\n",
       "    .dataframe thead th {\n",
       "        text-align: right;\n",
       "    }\n",
       "</style>\n",
       "<table border=\"1\" class=\"dataframe\">\n",
       "  <thead>\n",
       "    <tr style=\"text-align: right;\">\n",
       "      <th></th>\n",
       "      <th>month_of_reference</th>\n",
       "      <th>fipe_code</th>\n",
       "      <th>authentication</th>\n",
       "      <th>brand</th>\n",
       "      <th>model</th>\n",
       "      <th>fuel</th>\n",
       "      <th>gear</th>\n",
       "      <th>engine_size</th>\n",
       "    </tr>\n",
       "  </thead>\n",
       "  <tbody>\n",
       "    <tr>\n",
       "      <th>count</th>\n",
       "      <td>202296</td>\n",
       "      <td>202296</td>\n",
       "      <td>202296</td>\n",
       "      <td>202296</td>\n",
       "      <td>202296</td>\n",
       "      <td>202296</td>\n",
       "      <td>202296</td>\n",
       "      <td>202296</td>\n",
       "    </tr>\n",
       "    <tr>\n",
       "      <th>unique</th>\n",
       "      <td>13</td>\n",
       "      <td>2092</td>\n",
       "      <td>202296</td>\n",
       "      <td>7</td>\n",
       "      <td>2113</td>\n",
       "      <td>4</td>\n",
       "      <td>3</td>\n",
       "      <td>30</td>\n",
       "    </tr>\n",
       "    <tr>\n",
       "      <th>top</th>\n",
       "      <td>January</td>\n",
       "      <td>003281-6</td>\n",
       "      <td>cfzlctzfwrcp</td>\n",
       "      <td>Fiat</td>\n",
       "      <td>Palio Week. Adv/Adv TRYON 1.8 mpi Flex</td>\n",
       "      <td>Gasoline</td>\n",
       "      <td>manual</td>\n",
       "      <td>1,6</td>\n",
       "    </tr>\n",
       "    <tr>\n",
       "      <th>freq</th>\n",
       "      <td>24260</td>\n",
       "      <td>425</td>\n",
       "      <td>1</td>\n",
       "      <td>44962</td>\n",
       "      <td>425</td>\n",
       "      <td>168684</td>\n",
       "      <td>161883</td>\n",
       "      <td>47420</td>\n",
       "    </tr>\n",
       "  </tbody>\n",
       "</table>\n",
       "</div>"
      ],
      "text/plain": [
       "       month_of_reference fipe_code authentication   brand  \\\n",
       "count              202296    202296         202296  202296   \n",
       "unique                 13      2092         202296       7   \n",
       "top               January  003281-6   cfzlctzfwrcp    Fiat   \n",
       "freq                24260       425              1   44962   \n",
       "\n",
       "                                         model      fuel    gear engine_size  \n",
       "count                                   202296    202296  202296      202296  \n",
       "unique                                    2113         4       3          30  \n",
       "top     Palio Week. Adv/Adv TRYON 1.8 mpi Flex  Gasoline  manual         1,6  \n",
       "freq                                       425    168684  161883       47420  "
      ]
     },
     "execution_count": 86,
     "metadata": {},
     "output_type": "execute_result"
    }
   ],
   "source": [
    "# categóricas: estatística descritiva dos dados\n",
    "dados[categoricas_cols].describe()"
   ]
  }
 ],
 "metadata": {
  "kernelspec": {
   "display_name": "Python 3",
   "language": "python",
   "name": "python3"
  },
  "language_info": {
   "codemirror_mode": {
    "name": "ipython",
    "version": 3
   },
   "file_extension": ".py",
   "mimetype": "text/x-python",
   "name": "python",
   "nbconvert_exporter": "python",
   "pygments_lexer": "ipython3",
   "version": "3.11.3"
  }
 },
 "nbformat": 4,
 "nbformat_minor": 2
}
